{
 "cells": [
  {
   "cell_type": "markdown",
   "metadata": {},
   "source": [
    "# Basic syntax of class and object"
   ]
  },
  {
   "cell_type": "code",
   "execution_count": 2,
   "metadata": {},
   "outputs": [
    {
     "name": "stdout",
     "output_type": "stream",
     "text": [
      "410878008\n",
      "Hi, I am ray\n",
      "Hi, I am ray\n"
     ]
    }
   ],
   "source": [
    "class student:\n",
    "    def __init__(self, id, name): # __init__是起始函數，每次create object的時候都會呼叫，在這裡給定class的attribute\n",
    "        self.id = id\n",
    "        self.name = name\n",
    "\n",
    "    def greet(self): # 在class裡設置function，self是代表要reference現在這個class的instance，但不一定要是self，隨便打都可以\n",
    "        print(f\"Hi, I am {self.name}\")\n",
    "\n",
    "    def greet_2(haha):\n",
    "        print(f\"Hi, I am {haha.name}\")\n",
    "\n",
    "a = student(410878008, \"ray\") # 宣告instance\n",
    "print(a.id) # print instance裡的attribute\n",
    "a.greet() # 使用instance裡的function\n",
    "a.greet_2()\n"
   ]
  },
  {
   "cell_type": "markdown",
   "metadata": {},
   "source": [
    "# 繼承"
   ]
  },
  {
   "cell_type": "code",
   "execution_count": 3,
   "metadata": {},
   "outputs": [
    {
     "name": "stdout",
     "output_type": "stream",
     "text": [
      "ray\n",
      "Hi, I am ray\n"
     ]
    }
   ],
   "source": [
    "# 可以讓child繼承parent的attribute跟method，input parameter即為parent class\n",
    "class score(student):\n",
    "    pass\n",
    "a = score(410878008, \"ray\")\n",
    "print(a.name)\n",
    "a.greet_2()\n"
   ]
  },
  {
   "cell_type": "code",
   "execution_count": 8,
   "metadata": {},
   "outputs": [
    {
     "ename": "TypeError",
     "evalue": "__init__() takes 2 positional arguments but 3 were given",
     "output_type": "error",
     "traceback": [
      "\u001b[1;31m---------------------------------------------------------------------------\u001b[0m",
      "\u001b[1;31mTypeError\u001b[0m                                 Traceback (most recent call last)",
      "\u001b[1;32m<ipython-input-8-80a9378f589e>\u001b[0m in \u001b[0;36m<module>\u001b[1;34m\u001b[0m\n\u001b[0;32m      4\u001b[0m         \u001b[0mself\u001b[0m\u001b[1;33m.\u001b[0m\u001b[0mscore\u001b[0m \u001b[1;33m=\u001b[0m \u001b[0mscore\u001b[0m\u001b[1;33m\u001b[0m\u001b[1;33m\u001b[0m\u001b[0m\n\u001b[0;32m      5\u001b[0m \u001b[1;33m\u001b[0m\u001b[0m\n\u001b[1;32m----> 6\u001b[1;33m \u001b[0ma\u001b[0m \u001b[1;33m=\u001b[0m \u001b[0mscore\u001b[0m\u001b[1;33m(\u001b[0m\u001b[1;36m410878008\u001b[0m\u001b[1;33m,\u001b[0m \u001b[1;34m\"ray\"\u001b[0m\u001b[1;33m)\u001b[0m\u001b[1;33m\u001b[0m\u001b[1;33m\u001b[0m\u001b[0m\n\u001b[0m",
      "\u001b[1;31mTypeError\u001b[0m: __init__() takes 2 positional arguments but 3 were given"
     ]
    }
   ],
   "source": [
    "# 當child也啟用__init__時，parent的attribute就會被override\n",
    "class score(student):\n",
    "    def __init__(self, score):\n",
    "        self.score = score\n",
    "a = score(410878008, \"ray\")"
   ]
  },
  {
   "cell_type": "code",
   "execution_count": 9,
   "metadata": {},
   "outputs": [
    {
     "name": "stdout",
     "output_type": "stream",
     "text": [
      "ray\n",
      "Hi, I am ray\n",
      "ray got 89\n"
     ]
    }
   ],
   "source": [
    "# 如果要同時繼承parent的attribute跟method和在child加新的attribute，可以調用super()\n",
    "class score(student):\n",
    "    def __init__(self, id, name, score):\n",
    "        super().__init__(id, name)\n",
    "        self.score = score\n",
    "    def print_s(self):\n",
    "        print(f\"{self.name} got {self.score}\")\n",
    "a = score(410878008, \"ray\", 89)\n",
    "print(a.name)\n",
    "a.greet()\n",
    "a.print_s()"
   ]
  }
 ],
 "metadata": {
  "interpreter": {
   "hash": "f5841eea3f4a96478289a97e5c6cbea8ae613a536ffbf731f03fbdcd3d3ba29c"
  },
  "kernelspec": {
   "display_name": "Python 3.8.8 64-bit ('base': conda)",
   "language": "python",
   "name": "python3"
  },
  "language_info": {
   "codemirror_mode": {
    "name": "ipython",
    "version": 3
   },
   "file_extension": ".py",
   "mimetype": "text/x-python",
   "name": "python",
   "nbconvert_exporter": "python",
   "pygments_lexer": "ipython3",
   "version": "3.8.8"
  },
  "orig_nbformat": 4
 },
 "nbformat": 4,
 "nbformat_minor": 2
}
